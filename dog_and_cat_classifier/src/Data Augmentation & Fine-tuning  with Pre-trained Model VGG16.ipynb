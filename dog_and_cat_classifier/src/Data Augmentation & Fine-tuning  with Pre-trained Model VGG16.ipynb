{
 "cells": [
  {
   "cell_type": "markdown",
   "metadata": {},
   "source": [
    "**Note that this technique is in fact so expensive that you should only attempt it if you have access to a GPU: it is absolutely intractable on CPU. If you cannot run your code on GPU, then the previous technique is the way to go.**"
   ]
  },
  {
   "cell_type": "code",
   "execution_count": 1,
   "metadata": {},
   "outputs": [
    {
     "name": "stderr",
     "output_type": "stream",
     "text": [
      "Using TensorFlow backend.\n"
     ]
    }
   ],
   "source": [
    "from keras.applications import VGG16\n",
    "from keras.preprocessing import image"
   ]
  },
  {
   "cell_type": "code",
   "execution_count": 2,
   "metadata": {},
   "outputs": [],
   "source": [
    "conv_base = VGG16(weights='imagenet',\n",
    "                 include_top = False,\n",
    "                 input_shape = (150,150,3))"
   ]
  },
  {
   "cell_type": "code",
   "execution_count": 3,
   "metadata": {},
   "outputs": [
    {
     "name": "stdout",
     "output_type": "stream",
     "text": [
      "Model: \"sequential_1\"\n",
      "_________________________________________________________________\n",
      "Layer (type)                 Output Shape              Param #   \n",
      "=================================================================\n",
      "vgg16 (Model)                (None, 4, 4, 512)         14714688  \n",
      "_________________________________________________________________\n",
      "flatten_1 (Flatten)          (None, 8192)              0         \n",
      "_________________________________________________________________\n",
      "dense_1 (Dense)              (None, 256)               2097408   \n",
      "_________________________________________________________________\n",
      "dropout_1 (Dropout)          (None, 256)               0         \n",
      "_________________________________________________________________\n",
      "dense_2 (Dense)              (None, 1)                 257       \n",
      "=================================================================\n",
      "Total params: 16,812,353\n",
      "Trainable params: 16,812,353\n",
      "Non-trainable params: 0\n",
      "_________________________________________________________________\n"
     ]
    }
   ],
   "source": [
    "# Combining the VGG16 convolutional layer and ours dense layer\n",
    "\n",
    "from keras import models\n",
    "from keras.layers import Dense, Dropout, Flatten\n",
    "\n",
    "model = models.Sequential()\n",
    "model.add(conv_base)\n",
    "model.add(Flatten())\n",
    "model.add(Dense(256, activation='relu'))\n",
    "model.add(Dropout(0.5))\n",
    "model.add(Dense(1,activation='sigmoid'))\n",
    "\n",
    "model.summary()"
   ]
  },
  {
   "cell_type": "code",
   "execution_count": 4,
   "metadata": {},
   "outputs": [
    {
     "name": "stdout",
     "output_type": "stream",
     "text": [
      "This is the number of trainable weights before freezing the conv base: 30\n"
     ]
    }
   ],
   "source": [
    "print('This is the number of trainable weights '\n",
    "      'before freezing the conv base:', len(model.trainable_weights))"
   ]
  },
  {
   "cell_type": "code",
   "execution_count": 5,
   "metadata": {},
   "outputs": [],
   "source": [
    "conv_base.trainable = False"
   ]
  },
  {
   "cell_type": "code",
   "execution_count": 6,
   "metadata": {},
   "outputs": [
    {
     "name": "stdout",
     "output_type": "stream",
     "text": [
      "This is the number of trainable weights after freezing the conv base: 4\n"
     ]
    }
   ],
   "source": [
    "print('This is the number of trainable weights '\n",
    "      'after freezing the conv base:', len(model.trainable_weights))"
   ]
  },
  {
   "cell_type": "code",
   "execution_count": 7,
   "metadata": {},
   "outputs": [
    {
     "name": "stdout",
     "output_type": "stream",
     "text": [
      "Found 2000 images belonging to 2 classes.\n",
      "Found 1000 images belonging to 2 classes.\n"
     ]
    }
   ],
   "source": [
    "import os\n",
    "from keras.preprocessing.image import ImageDataGenerator\n",
    "from keras import optimizers\n",
    "\n",
    "base_dir =  r\"C:\\Users\\rakes\\Desktop\\Rakesh\\Deep Learning\\Deep Learning with Python - Francois Chollet\\Ch-5\\cats_dogs_small\"\n",
    "train_dir = os.path.join(base_dir,'train_dir')\n",
    "validation_dir = os.path.join(base_dir, 'validation_dir')\n",
    "test_dir = os.path.join(base_dir, 'test_dir')\n",
    "\n",
    "\n",
    "train_datagen = ImageDataGenerator(rescale=1./255,\n",
    "                                  rotation_range=40,\n",
    "                                  width_shift_range=0.2, height_shift_range=0.2, shear_range=0.2,\n",
    "                                  fill_mode='nearest',horizontal_flip=True, vertical_flip=True)\n",
    "\n",
    "test_datagen = ImageDataGenerator(rescale=1./255)\n",
    "\n",
    "train_generator = train_datagen.flow_from_directory(train_dir, target_size=(150,150), \n",
    "                                                    batch_size=32, class_mode='binary')\n",
    "\n",
    "validation_generator = test_datagen.flow_from_directory(validation_dir, \n",
    "                                                        target_size=(150,150), batch_size=32,\n",
    "                                                   class_mode='binary')"
   ]
  },
  {
   "cell_type": "code",
   "execution_count": 21,
   "metadata": {},
   "outputs": [],
   "source": [
    "model.compile(optimizer=optimizers.RMSprop(lr=2e-5), loss='binary_crossentropy', metrics=['acc'])"
   ]
  },
  {
   "cell_type": "code",
   "execution_count": 9,
   "metadata": {},
   "outputs": [
    {
     "name": "stdout",
     "output_type": "stream",
     "text": [
      "Epoch 1/30\n",
      "100/100 [==============================] - 502s 5s/step - loss: 0.6916 - acc: 0.5912 - val_loss: 0.5284 - val_acc: 0.7703\n",
      "Epoch 2/30\n",
      "100/100 [==============================] - 496s 5s/step - loss: 0.6135 - acc: 0.6558 - val_loss: 0.4524 - val_acc: 0.8106\n",
      "Epoch 3/30\n",
      "100/100 [==============================] - 513s 5s/step - loss: 0.5558 - acc: 0.7203 - val_loss: 0.4230 - val_acc: 0.8242\n",
      "Epoch 4/30\n",
      "100/100 [==============================] - 498s 5s/step - loss: 0.5295 - acc: 0.7327 - val_loss: 0.3162 - val_acc: 0.8415\n",
      "Epoch 5/30\n",
      "100/100 [==============================] - 441s 4s/step - loss: 0.5090 - acc: 0.7519 - val_loss: 0.3838 - val_acc: 0.8357\n",
      "Epoch 6/30\n",
      "100/100 [==============================] - 300s 3s/step - loss: 0.4823 - acc: 0.7657 - val_loss: 0.3191 - val_acc: 0.8415\n",
      "Epoch 7/30\n",
      "100/100 [==============================] - 295s 3s/step - loss: 0.4833 - acc: 0.7652 - val_loss: 0.2320 - val_acc: 0.8363\n",
      "Epoch 8/30\n",
      "100/100 [==============================] - 295s 3s/step - loss: 0.4676 - acc: 0.7742 - val_loss: 0.2690 - val_acc: 0.8524\n",
      "Epoch 9/30\n",
      "100/100 [==============================] - 313s 3s/step - loss: 0.4440 - acc: 0.7877 - val_loss: 0.3061 - val_acc: 0.8557\n",
      "Epoch 10/30\n",
      "100/100 [==============================] - 296s 3s/step - loss: 0.4529 - acc: 0.7860 - val_loss: 0.4793 - val_acc: 0.8547\n",
      "Epoch 11/30\n",
      "100/100 [==============================] - 296s 3s/step - loss: 0.4522 - acc: 0.7789 - val_loss: 0.3224 - val_acc: 0.8537\n",
      "Epoch 12/30\n",
      "100/100 [==============================] - 296s 3s/step - loss: 0.4404 - acc: 0.7860 - val_loss: 0.2757 - val_acc: 0.8617\n",
      "Epoch 13/30\n",
      "100/100 [==============================] - 296s 3s/step - loss: 0.4296 - acc: 0.7999 - val_loss: 0.4232 - val_acc: 0.8537\n",
      "Epoch 14/30\n",
      "100/100 [==============================] - 296s 3s/step - loss: 0.4181 - acc: 0.8065 - val_loss: 0.3547 - val_acc: 0.8668\n",
      "Epoch 15/30\n",
      "100/100 [==============================] - 295s 3s/step - loss: 0.4304 - acc: 0.7999 - val_loss: 0.2182 - val_acc: 0.8615\n",
      "Epoch 16/30\n",
      "100/100 [==============================] - 295s 3s/step - loss: 0.4076 - acc: 0.8100 - val_loss: 0.6619 - val_acc: 0.8666\n",
      "Epoch 17/30\n",
      "100/100 [==============================] - 297s 3s/step - loss: 0.4206 - acc: 0.8068 - val_loss: 0.3874 - val_acc: 0.8737\n",
      "Epoch 18/30\n",
      "100/100 [==============================] - 294s 3s/step - loss: 0.4058 - acc: 0.8074 - val_loss: 0.2033 - val_acc: 0.8718\n",
      "Epoch 19/30\n",
      "100/100 [==============================] - 295s 3s/step - loss: 0.4019 - acc: 0.8144 - val_loss: 0.2266 - val_acc: 0.8737\n",
      "Epoch 20/30\n",
      "100/100 [==============================] - 294s 3s/step - loss: 0.4104 - acc: 0.8078 - val_loss: 0.3279 - val_acc: 0.8705\n",
      "Epoch 21/30\n",
      "100/100 [==============================] - 295s 3s/step - loss: 0.4004 - acc: 0.8182 - val_loss: 0.2277 - val_acc: 0.8744\n",
      "Epoch 22/30\n",
      "100/100 [==============================] - 307s 3s/step - loss: 0.4024 - acc: 0.8144 - val_loss: 0.2086 - val_acc: 0.8737\n",
      "Epoch 23/30\n",
      "100/100 [==============================] - 303s 3s/step - loss: 0.3989 - acc: 0.8109 - val_loss: 0.2734 - val_acc: 0.8661\n",
      "Epoch 24/30\n",
      "100/100 [==============================] - 301s 3s/step - loss: 0.3979 - acc: 0.8198 - val_loss: 0.4684 - val_acc: 0.8750\n",
      "Epoch 25/30\n",
      "100/100 [==============================] - 302s 3s/step - loss: 0.4006 - acc: 0.8179 - val_loss: 0.3403 - val_acc: 0.8647\n",
      "Epoch 26/30\n",
      "100/100 [==============================] - 362s 4s/step - loss: 0.3809 - acc: 0.8238 - val_loss: 0.1793 - val_acc: 0.8763\n",
      "Epoch 27/30\n",
      "100/100 [==============================] - 482s 5s/step - loss: 0.3839 - acc: 0.8235 - val_loss: 0.2566 - val_acc: 0.8750\n",
      "Epoch 28/30\n",
      "100/100 [==============================] - 501s 5s/step - loss: 0.3965 - acc: 0.8213 - val_loss: 0.1767 - val_acc: 0.8763\n",
      "Epoch 29/30\n",
      "100/100 [==============================] - 486s 5s/step - loss: 0.3877 - acc: 0.8147 - val_loss: 0.3294 - val_acc: 0.8795\n",
      "Epoch 30/30\n",
      "100/100 [==============================] - 482s 5s/step - loss: 0.3792 - acc: 0.8291 - val_loss: 0.4411 - val_acc: 0.8750\n"
     ]
    }
   ],
   "source": [
    "history = model.fit_generator(train_generator, steps_per_epoch=100,\n",
    "                              epochs=30,\n",
    "                              validation_data=validation_generator,\n",
    "                              validation_steps=50,\n",
    "                              verbose=1)"
   ]
  },
  {
   "cell_type": "code",
   "execution_count": 10,
   "metadata": {},
   "outputs": [
    {
     "data": {
      "image/png": "[encoded data removed]",
      "text/plain": [
       "<Figure size 432x288 with 1 Axes>"
      ]
     },
     "metadata": {
      "needs_background": "light"
     },
     "output_type": "display_data"
    },
    {
     "data": {
      "image/png": "[encoded data removed]",
      "text/plain": [
       "<Figure size 432x288 with 1 Axes>"
      ]
     },
     "metadata": {
      "needs_background": "light"
     },
     "output_type": "display_data"
    }
   ],
   "source": [
    "import matplotlib.pyplot as plt\n",
    "\n",
    "acc = history.history['acc']\n",
    "val_acc = history.history['val_acc']\n",
    "loss = history.history['loss']\n",
    "val_loss = history.history['val_loss']\n",
    "\n",
    "epochs = range(len(acc))\n",
    "\n",
    "plt.plot(epochs, acc, 'bo', label='Training acc')\n",
    "plt.plot(epochs, val_acc, 'b', label='Validation acc')\n",
    "plt.title('Training and validation accuracy')\n",
    "plt.legend()\n",
    "\n",
    "plt.figure()\n",
    "\n",
    "plt.plot(epochs, loss, 'bo', label='Training loss')\n",
    "plt.plot(epochs, val_loss, 'b', label='Validation loss')\n",
    "plt.title('Training and validation loss')\n",
    "plt.legend()\n",
    "\n",
    "plt.show()"
   ]
  },
  {
   "cell_type": "code",
   "execution_count": null,
   "metadata": {},
   "outputs": [],
   "source": []
  },
  {
   "cell_type": "markdown",
   "metadata": {},
   "source": [
    "# Fine Tuning"
   ]
  },
  {
   "cell_type": "code",
   "execution_count": 8,
   "metadata": {},
   "outputs": [
    {
     "name": "stdout",
     "output_type": "stream",
     "text": [
      "Model: \"vgg16\"\n",
      "_________________________________________________________________\n",
      "Layer (type)                 Output Shape              Param #   \n",
      "=================================================================\n",
      "input_1 (InputLayer)         (None, 150, 150, 3)       0         \n",
      "_________________________________________________________________\n",
      "block1_conv1 (Conv2D)        (None, 150, 150, 64)      1792      \n",
      "_________________________________________________________________\n",
      "block1_conv2 (Conv2D)        (None, 150, 150, 64)      36928     \n",
      "_________________________________________________________________\n",
      "block1_pool (MaxPooling2D)   (None, 75, 75, 64)        0         \n",
      "_________________________________________________________________\n",
      "block2_conv1 (Conv2D)        (None, 75, 75, 128)       73856     \n",
      "_________________________________________________________________\n",
      "block2_conv2 (Conv2D)        (None, 75, 75, 128)       147584    \n",
      "_________________________________________________________________\n",
      "block2_pool (MaxPooling2D)   (None, 37, 37, 128)       0         \n",
      "_________________________________________________________________\n",
      "block3_conv1 (Conv2D)        (None, 37, 37, 256)       295168    \n",
      "_________________________________________________________________\n",
      "block3_conv2 (Conv2D)        (None, 37, 37, 256)       590080    \n",
      "_________________________________________________________________\n",
      "block3_conv3 (Conv2D)        (None, 37, 37, 256)       590080    \n",
      "_________________________________________________________________\n",
      "block3_pool (MaxPooling2D)   (None, 18, 18, 256)       0         \n",
      "_________________________________________________________________\n",
      "block4_conv1 (Conv2D)        (None, 18, 18, 512)       1180160   \n",
      "_________________________________________________________________\n",
      "block4_conv2 (Conv2D)        (None, 18, 18, 512)       2359808   \n",
      "_________________________________________________________________\n",
      "block4_conv3 (Conv2D)        (None, 18, 18, 512)       2359808   \n",
      "_________________________________________________________________\n",
      "block4_pool (MaxPooling2D)   (None, 9, 9, 512)         0         \n",
      "_________________________________________________________________\n",
      "block5_conv1 (Conv2D)        (None, 9, 9, 512)         2359808   \n",
      "_________________________________________________________________\n",
      "block5_conv2 (Conv2D)        (None, 9, 9, 512)         2359808   \n",
      "_________________________________________________________________\n",
      "block5_conv3 (Conv2D)        (None, 9, 9, 512)         2359808   \n",
      "_________________________________________________________________\n",
      "block5_pool (MaxPooling2D)   (None, 4, 4, 512)         0         \n",
      "=================================================================\n",
      "Total params: 14,714,688\n",
      "Trainable params: 0\n",
      "Non-trainable params: 14,714,688\n",
      "_________________________________________________________________\n"
     ]
    }
   ],
   "source": [
    "import os\n",
    "from keras.preprocessing.image import ImageDataGenerator\n",
    "from keras import optimizers\n",
    "\n",
    "conv_base.summary()"
   ]
  },
  {
   "cell_type": "code",
   "execution_count": 9,
   "metadata": {},
   "outputs": [],
   "source": [
    "conv_base.trainable = True\n",
    "\n",
    "set_trainable = False\n",
    "for layer in conv_base.layers:\n",
    "    if layer.name == 'block5_conv1':\n",
    "        set_trainable = True\n",
    "    if set_trainable:\n",
    "        layer.trainable = True\n",
    "    else:\n",
    "        layer.trainable = False"
   ]
  },
  {
   "cell_type": "code",
   "execution_count": null,
   "metadata": {},
   "outputs": [
    {
     "name": "stdout",
     "output_type": "stream",
     "text": [
      "Epoch 1/100\n",
      "100/100 [==============================] - 335s 3s/step - loss: 0.6766 - acc: 0.5896 - val_loss: 0.4730 - val_acc: 0.8084\n",
      "Epoch 2/100\n",
      "  5/100 [>.............................] - ETA: 3:53 - loss: 0.5779 - acc: 0.6625"
     ]
    }
   ],
   "source": [
    "model.compile(loss='binary_crossentropy',\n",
    "              optimizer=optimizers.RMSprop(lr=1e-5),\n",
    "              metrics=['acc'])\n",
    "\n",
    "history = model.fit_generator(\n",
    "      train_generator,\n",
    "      steps_per_epoch=100,\n",
    "      epochs=100,\n",
    "      validation_data=validation_generator,\n",
    "      validation_steps=50)"
   ]
  },
  {
   "cell_type": "code",
   "execution_count": null,
   "metadata": {},
   "outputs": [],
   "source": []
  },
  {
   "cell_type": "code",
   "execution_count": null,
   "metadata": {},
   "outputs": [],
   "source": []
  }
 ],
 "metadata": {
  "kernelspec": {
   "display_name": "gputest",
   "language": "python",
   "name": "gputest"
  },
  "language_info": {
   "codemirror_mode": {
    "name": "ipython",
    "version": 3
   },
   "file_extension": ".py",
   "mimetype": "text/x-python",
   "name": "python",
   "nbconvert_exporter": "python",
   "pygments_lexer": "ipython3",
   "version": "3.7.7"
  }
 },
 "nbformat": 4,
 "nbformat_minor": 4
}
